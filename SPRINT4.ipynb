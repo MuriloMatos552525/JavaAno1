{
  "cells": [
    {
      "cell_type": "markdown",
      "metadata": {
        "id": "view-in-github",
        "colab_type": "text"
      },
      "source": [
        "<a href=\"https://colab.research.google.com/github/MuriloMatos552525/JavaAno1/blob/main/SPRINT4.ipynb\" target=\"_parent\"><img src=\"https://colab.research.google.com/assets/colab-badge.svg\" alt=\"Open In Colab\"/></a>"
      ]
    },
    {
      "cell_type": "markdown",
      "metadata": {
        "id": "sS0FuITn9MSE"
      },
      "source": [
        "\n",
        "\n",
        "# <font color='red' style='font-size: 30px;'>*SPRINT* 4 - *HAALKTECH*</font>\n",
        "\n",
        "\n",
        "\n",
        "## Desenvolvedores:\n",
        "\n",
        "* ALECK CAPPUCCI – RM551340\n",
        "* GABRIEL LIMA – RM99743\n",
        "* GIOVANNA ALVAREZ – RM98892\n",
        "* MURILO MATOS – RM552525 – (1TDSPF)\n",
        "* SARAH ROSA – RM98482\n",
        "\n",
        "\n",
        "<hr style='border: 2px solid red;'>\n",
        "\n"
      ]
    },
    {
      "cell_type": "markdown",
      "source": [
        "## **Dataset: https://www.kaggle.com/datasets/tysonpo/bike-ads-images-prices-specifications**"
      ],
      "metadata": {
        "id": "VKTjAu0UPYA-"
      }
    },
    {
      "cell_type": "markdown",
      "source": [
        "# **Descrição do dataset:**\n",
        "\n",
        "Este Dataset abrange 10.052 anúncios de bicicletas, proveniente do\n",
        "website: “Bike Exchange”, com 1.982 anúncios\n",
        "Os dados incluem informações como título, imagem, preço, condição e\n",
        "especificações das bicicletas, com ênfase em \"Road Bikes\" e \"Mountain Bikes\".\n",
        "Importante destacar que as imagens do Bike Exchange apresentam maior qualidade\n",
        "Medidas de filtragem foram aplicadas para remover anúncios não\n",
        "relacionados a bicicletas.\n",
        "\n",
        "# **Objetivo:**\n",
        "As especificações do tipo, marca e entre outras,\n",
        "devem ser inseridas em nosso banco de dados como uma base de\n",
        "dados para inspeção automatizada. Em outras palavras, quando um\n",
        "usuário realizar a vistoria automatizada e seguir as instruções exibidas\n",
        "na tela enquanto estiver a capturar fotos da bicicleta, a IA será capaz\n",
        "de identificar tanto o tipo, quanto a marca e o modelo da bicicleta que\n",
        "está sendo fotografado pelo usuário. Portanto, caso o usuário tente\n",
        "fornecer informações incorretas sobre o tipo de bicicleta que possui, a\n",
        "IA será capaz de determinar com precisão o tipo real da bicicleta.\n",
        "<hr style='border: 2px solid red;'>\n"
      ],
      "metadata": {
        "id": "5bvjUZQDMvJW"
      }
    },
    {
      "cell_type": "markdown",
      "metadata": {
        "id": "yP691XjQ9XHU"
      },
      "source": [
        "Nesta célula, as bibliotecas necessárias são importadas e os dados são carregados a partir de arquivos JSON e CSV. Os dados são então combinados com base no ID."
      ]
    },
    {
      "cell_type": "code",
      "execution_count": null,
      "metadata": {
        "id": "i2UHJaOV9Ksn"
      },
      "outputs": [],
      "source": [
        "# Importe as bibliotecas necessárias\n",
        "import pandas as pd\n",
        "import matplotlib.pyplot as plt\n",
        "import seaborn as sns\n",
        "import pickle\n",
        "from sklearn.model_selection import train_test_split\n",
        "from sklearn.linear_model import LogisticRegression\n",
        "from sklearn.preprocessing import OneHotEncoder\n",
        "from sklearn.compose import ColumnTransformer\n",
        "from sklearn.pipeline import Pipeline\n",
        "from sklearn.impute import SimpleImputer\n",
        "from sklearn.metrics import accuracy_score, confusion_matrix, classification_report\n",
        "\n",
        "# Carregar o conjunto de dados \"data_bike_exchange.json\"\n",
        "data_bike_exchange = pd.read_json('data_bike_exchange.json', lines=True)\n",
        "combined_price = pd.read_csv('combined_price-only.csv')\n",
        "# Obs: Os dados do data_ebay.json não foram utilizados pois apresentavam diversas falhas.\n",
        "\n",
        "# Combinar os dados com base no ID\n",
        "data = data_bike_exchange.merge(combined_price, on='ID', how='inner')\n"
      ]
    },
    {
      "cell_type": "markdown",
      "metadata": {
        "id": "yLdTGB0D9ey5"
      },
      "source": [
        "Nesta célula, ocorre a limpeza e a conversão das colunas para tipos numéricos, juntamente com a remoção de linhas com valores ausentes na variável alvo."
      ]
    },
    {
      "cell_type": "code",
      "execution_count": null,
      "metadata": {
        "id": "8rZJHuaz9dZJ"
      },
      "outputs": [],
      "source": [
        "# Limpeza das colunas 'Frame in inches' e 'Size'\n",
        "data['Frame in inches'] = data['Frame in inches'].str.replace('\"', '', regex=True)\n",
        "data['Size'] = data['Size'].str.replace('\"', '', regex=True)\n",
        "\n",
        "# Converta as colunas para tipo numérico\n",
        "data['Frame in inches'] = pd.to_numeric(data['Frame in inches'], errors='coerce')\n",
        "data['Size'] = pd.to_numeric(data['Size'], errors='coerce')\n",
        "\n",
        "# Limpeza da coluna 'Price now'\n",
        "data['Price now'] = data['Price now'].str.replace('$', '', regex=True)\n",
        "data['Price now'] = data['Price now'].str.replace(',', '', regex=True)\n",
        "\n",
        "# Converta a coluna 'Price now' para tipo numérico\n",
        "data['Price now'] = pd.to_numeric(data['Price now'], errors='coerce')\n",
        "\n",
        "# Remova linhas com valores ausentes na variável alvo\n",
        "data.dropna(subset=['Price now'], inplace=True)\n"
      ]
    },
    {
      "cell_type": "markdown",
      "metadata": {
        "id": "9eNazOrp9lqZ"
      },
      "source": [
        "Nesta célula, é definida a classe alvo com base na mediana dos preços."
      ]
    },
    {
      "cell_type": "code",
      "execution_count": null,
      "metadata": {
        "id": "sthFCt0q9qJ5"
      },
      "outputs": [],
      "source": [
        "# Defina uma classe alvo para classificação\n",
        "data['Price Class'] = (data['Price now'] > data['Price now'].median()).astype(int)\n"
      ]
    },
    {
      "cell_type": "markdown",
      "metadata": {
        "id": "KwRWZcSZ9tZw"
      },
      "source": [
        "Nesta célula, é definido o pré-processamento dos dados, incluindo a identificação de recursos categóricos e numéricos, a criação de um imputador para preencher valores ausentes e a configuração do transformador de colunas."
      ]
    },
    {
      "cell_type": "code",
      "execution_count": null,
      "metadata": {
        "id": "Ro9X1Na69uB6"
      },
      "outputs": [],
      "source": [
        "# Pré-processamento de dados\n",
        "categorical_features = ['Brand', 'Type', 'Color', 'Gender', 'Riding Style', 'Material', 'Wheel Size', 'Rear Derailleur', 'Item condition', 'Availability']\n",
        "numeric_features = ['Frame in inches', 'Size']\n",
        "\n",
        "# Imputador para preencher valores ausentes com a média\n",
        "imputer = SimpleImputer(strategy='mean')\n",
        "\n",
        "# Usando handle_unknown='ignore' ao criar o codificador OneHotEncoder\n",
        "preprocessor = ColumnTransformer(\n",
        "    transformers=[\n",
        "        ('num', imputer, numeric_features),\n",
        "        ('cat', OneHotEncoder(handle_unknown='ignore'), categorical_features)\n",
        "    ])\n"
      ]
    },
    {
      "cell_type": "markdown",
      "metadata": {
        "id": "VK0kbZyE9u1Y"
      },
      "source": [
        "Nesta célula, os dados são divididos em conjuntos de treinamento e teste."
      ]
    },
    {
      "cell_type": "code",
      "execution_count": null,
      "metadata": {
        "id": "g6KBRbmv9vLo"
      },
      "outputs": [],
      "source": [
        "X = data.drop(['Price now', 'Price Class'], axis=1)  # Recursos (removendo a coluna \"Price now\" e \"Price Class\")\n",
        "y = data['Price Class']  # Variável alvo (classificação binária)\n",
        "\n",
        "X_train, X_test, y_train, y_test = train_test_split(X, y, test_size=0.2, random_state=42)\n"
      ]
    },
    {
      "cell_type": "markdown",
      "metadata": {
        "id": "0XMNq1XQ95EO"
      },
      "source": [
        "Nesta célula, é criado um pipeline que combina o pré-processamento de dados e o modelo de classificação (Logistic Regression)."
      ]
    },
    {
      "cell_type": "code",
      "execution_count": null,
      "metadata": {
        "id": "Xx1aAhyR93xI"
      },
      "outputs": [],
      "source": [
        "classification_pipeline = Pipeline([\n",
        "    ('preprocessor', preprocessor),\n",
        "    ('classifier', LogisticRegression())\n",
        "])\n"
      ]
    },
    {
      "cell_type": "markdown",
      "metadata": {
        "id": "s7fwFlas9_2f"
      },
      "source": [
        "Nesta célula, o modelo é treinado com os dados de treinamento e as previsões são feitas no conjunto de teste."
      ]
    },
    {
      "cell_type": "code",
      "execution_count": null,
      "metadata": {
        "colab": {
          "base_uri": "https://localhost:8080/"
        },
        "id": "Q0DIoT4S-AIY",
        "outputId": "3483f4f3-d12d-4875-cb2e-82c911024687"
      },
      "outputs": [
        {
          "name": "stderr",
          "output_type": "stream",
          "text": [
            "/usr/local/lib/python3.10/dist-packages/sklearn/linear_model/_logistic.py:458: ConvergenceWarning: lbfgs failed to converge (status=1):\n",
            "STOP: TOTAL NO. of ITERATIONS REACHED LIMIT.\n",
            "\n",
            "Increase the number of iterations (max_iter) or scale the data as shown in:\n",
            "    https://scikit-learn.org/stable/modules/preprocessing.html\n",
            "Please also refer to the documentation for alternative solver options:\n",
            "    https://scikit-learn.org/stable/modules/linear_model.html#logistic-regression\n",
            "  n_iter_i = _check_optimize_result(\n"
          ]
        }
      ],
      "source": [
        "classification_pipeline.fit(X_train, y_train)\n",
        "\n",
        "y_pred = classification_pipeline.predict(X_test)\n"
      ]
    },
    {
      "cell_type": "markdown",
      "metadata": {
        "id": "yD7HWVxt-Cp5"
      },
      "source": [
        "Nesta célula, são avaliados os resultados do modelo, incluindo a precisão, a matriz de confusão e o relatório de classificação."
      ]
    },
    {
      "cell_type": "code",
      "execution_count": null,
      "metadata": {
        "colab": {
          "base_uri": "https://localhost:8080/"
        },
        "id": "KzkX-NGW-DGo",
        "outputId": "bf433e44-e85f-4134-c971-9df96d1f0131"
      },
      "outputs": [
        {
          "name": "stdout",
          "output_type": "stream",
          "text": [
            "Acurácia: 0.8411214953271028\n",
            "Matriz de Confusão:\n",
            "[[131  33]\n",
            " [ 18 139]]\n",
            "Relatório de Classificação:\n",
            "              precision    recall  f1-score   support\n",
            "\n",
            "           0       0.88      0.80      0.84       164\n",
            "           1       0.81      0.89      0.84       157\n",
            "\n",
            "    accuracy                           0.84       321\n",
            "   macro avg       0.84      0.84      0.84       321\n",
            "weighted avg       0.84      0.84      0.84       321\n",
            "\n"
          ]
        }
      ],
      "source": [
        "\n",
        "accuracy = accuracy_score(y_test, y_pred)\n",
        "conf_matrix = confusion_matrix(y_test, y_pred)\n",
        "class_report = classification_report(y_test, y_pred)\n",
        "\n",
        "\n",
        "print(f\"Acurácia: {accuracy}\")\n",
        "print(\"Matriz de Confusão:\")\n",
        "print(conf_matrix)\n",
        "print(\"Relatório de Classificação:\")\n",
        "print(class_report)\n"
      ]
    },
    {
      "cell_type": "markdown",
      "metadata": {
        "id": "yfQEQUrQEEdB"
      },
      "source": [
        "salvando o modelo em pickle"
      ]
    },
    {
      "cell_type": "code",
      "execution_count": null,
      "metadata": {
        "id": "adPll2YCDHob"
      },
      "outputs": [],
      "source": [
        "with open('modelo.pickle', 'wb') as file:\n",
        "    pickle.dump(classification_pipeline, file)"
      ]
    },
    {
      "cell_type": "code",
      "execution_count": null,
      "metadata": {
        "colab": {
          "background_save": true,
          "base_uri": "https://localhost:8080/"
        },
        "id": "uey-6o-PAFo6",
        "outputId": "16de11e0-3358-42fc-ee9f-68e8f45a5754"
      },
      "outputs": [
        {
          "name": "stdout",
          "output_type": "stream",
          "text": [
            " * Serving Flask app '__main__'\n",
            " * Debug mode: off\n"
          ]
        },
        {
          "name": "stderr",
          "output_type": "stream",
          "text": [
            "INFO:werkzeug:\u001b[31m\u001b[1mWARNING: This is a development server. Do not use it in a production deployment. Use a production WSGI server instead.\u001b[0m\n",
            " * Running on all addresses (0.0.0.0)\n",
            " * Running on http://127.0.0.1:5000\n",
            " * Running on http://172.28.0.12:5000\n",
            "INFO:werkzeug:\u001b[33mPress CTRL+C to quit\u001b[0m\n"
          ]
        }
      ],
      "source": [
        "from flask import Flask, request, jsonify\n",
        "\n",
        "app = Flask(__name__)\n",
        "\n",
        "@app.route('/predict', methods=['POST'])\n",
        "def predict_price():\n",
        "    try:\n",
        "        data = request.json\n",
        "        prediction = classification_pipeline.predict([data])\n",
        "        return jsonify({'predicted_price': prediction[0]})\n",
        "    except Exception as e:\n",
        "        return jsonify({'error': str(e)})\n",
        "\n",
        "if __name__ == '__main__':\n",
        "    app.run(host='0.0.0.0', port=5000)"
      ]
    }
  ],
  "metadata": {
    "colab": {
      "provenance": [],
      "authorship_tag": "ABX9TyMcEFmY7bbCkpzqaXGrD9Iu",
      "include_colab_link": true
    },
    "kernelspec": {
      "display_name": "Python 3",
      "name": "python3"
    },
    "language_info": {
      "name": "python"
    }
  },
  "nbformat": 4,
  "nbformat_minor": 0
}